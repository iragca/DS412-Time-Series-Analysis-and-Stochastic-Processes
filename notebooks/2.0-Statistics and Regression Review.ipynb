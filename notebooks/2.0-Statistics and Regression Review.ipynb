{
 "cells": [
  {
   "cell_type": "markdown",
   "id": "efd16ba0",
   "metadata": {},
   "source": [
    "# Statistics and Regression Review\n",
    "DS412 Time Series Analysis and Stoachastic Processes\n",
    "\n",
    "## Authors\n",
    "\n",
    "**Group 5, DS4A**\n",
    "\n",
    "- Chris Andrei Irag\n",
    "- Ephraem Requilman\n",
    "- Joanna Reyda Santos\n",
    "- Kobe Marco Olaguir\n",
    "- Rod Vincent Dela Vega\n",
    "- Ruszed Jy Ayad\n"
   ]
  },
  {
   "cell_type": "markdown",
   "id": "3abf2ce1",
   "metadata": {},
   "source": [
    "## Setup"
   ]
  },
  {
   "cell_type": "code",
   "execution_count": 17,
   "id": "a7752bde",
   "metadata": {},
   "outputs": [],
   "source": [
    "import os\n",
    "\n",
    "from tqdm import tqdm\n",
    "\n",
    "\n",
    "def in_colab() -> bool:\n",
    "    \"\"\"\n",
    "    Check whether the current Python session is running in Google Colab.\n",
    "\n",
    "    This function determines if the code is executed within a Google Colab \n",
    "    environment by checking for the ``COLAB_RELEASE_TAG`` environment variable, \n",
    "    which is automatically set by Colab runtimes.\n",
    "\n",
    "    Returns\n",
    "    -------\n",
    "    bool\n",
    "        ``True`` if running in Google Colab, ``False`` otherwise.\n",
    "\n",
    "    Notes\n",
    "    -----\n",
    "    - This method relies on environment variables set by Colab.\n",
    "    - It may not detect Colab if Google changes or removes the ``COLAB_RELEASE_TAG`` variable.\n",
    "    - Alternative detection strategies include importing ``google.colab`` or inspecting the IPython shell.\n",
    "\n",
    "    Examples\n",
    "    --------\n",
    "    >>> in_colab()\n",
    "    False  # When run locally\n",
    "\n",
    "    >>> in_colab()\n",
    "    True   # When run inside Google Colab\n",
    "    \"\"\"\n",
    "    return \"COLAB_RELEASE_TAG\" in os.environ"
   ]
  },
  {
   "cell_type": "code",
   "execution_count": null,
   "id": "0a301757",
   "metadata": {},
   "outputs": [],
   "source": [
    "IN_COLAB: bool = in_colab()\n",
    "\n",
    "if IN_COLAB:\n",
    "    print(\"Installing packages...\")\n",
    "\n",
    "    packages = [\"pandas\", \"numpy\", \"matplotlib\", \"seaborn\", \"scikit-learn\", \"statsmodels\"]\n",
    "    with tqdm(total=len(packages), desc=\"Installing packages\", unit=\"package\") as pbar:\n",
    "        for package in packages:\n",
    "            pbar.set_description(f\"Installing {package}\")\n",
    "            os.system(f\"pip install {package}\")\n",
    "            pbar.update(1)\n",
    "\n",
    "    print(\"\\nFinished installing. ✨\")"
   ]
  },
  {
   "cell_type": "code",
   "execution_count": null,
   "id": "7008c407",
   "metadata": {},
   "outputs": [],
   "source": [
    "import numpy as np\n",
    "import pandas as pd\n",
    "import seaborn as sns\n",
    "import sklearn as sk\n",
    "import statsmodels.api as sm\n",
    "\n",
    "import matplotlib.pyplot as plt\n",
    "\n",
    "if IN_COLAB:\n",
    "    CMR10_STYLE = (\n",
    "        \"https://raw.githubusercontent.com/\"\n",
    "        \"iragca/DS412-Time-Series-Analysis-and-Stochastic-Processes/\"\n",
    "        \"refs/heads/master/src/matplotlib/iragca_cmr10.mplstyle\"\n",
    "    )\n",
    "    plt.style.use(CMR10_STYLE)\n",
    "else:\n",
    "    from src.config import DirectoryPaths\n",
    "    from src.matplotlib import Styles\n",
    "    plt.style.use(Styles.CMR10.value)"
   ]
  },
  {
   "cell_type": "markdown",
   "id": "a5ecfa2b",
   "metadata": {},
   "source": [
    "## Loading Data"
   ]
  },
  {
   "cell_type": "code",
   "execution_count": null,
   "id": "7281fccc",
   "metadata": {},
   "outputs": [],
   "source": [
    "def load_data(in_colab: bool) -> pd.DataFrame:\n",
    "    \"\"\"\n",
    "    Load the debit cards dataset either from a remote GitHub URL (Colab) \n",
    "    or from a local path (non-Colab).\n",
    "\n",
    "    Parameters\n",
    "    ----------\n",
    "    in_colab : bool\n",
    "        Flag indicating whether the function is running inside Google Colab.\n",
    "        If True, loads the dataset from a remote GitHub repository.\n",
    "        If False, loads the dataset from a local path defined in `src.config.DirectoryPaths`.\n",
    "\n",
    "    Returns\n",
    "    -------\n",
    "    pd.DataFrame\n",
    "        A pandas DataFrame containing the debit cards dataset.\n",
    "        - When `in_colab=True`, the index column is parsed as datetime (`date`).\n",
    "        - When `in_colab=False`, the dataset is loaded from local storage.\n",
    "        - If loading fails, an empty DataFrame is returned.\n",
    "\n",
    "    Raises\n",
    "    ------\n",
    "    Exception\n",
    "        Catches and prints any error during loading (e.g., file not found, network error),\n",
    "        but does not raise the exception further.\n",
    "\n",
    "    Notes\n",
    "    -----\n",
    "    - Remote dataset URL: \n",
    "      `https://raw.githubusercontent.com/iragca/DS412-Time-Series-Analysis-and-Stochastic-Processes/refs/heads/master/data/external/debitcards.csv`\n",
    "    - Local dataset path is determined by `DirectoryPaths.EXTERNAL_DATA`.\n",
    "\n",
    "    Examples\n",
    "    --------\n",
    "    >>> # Load from GitHub (inside Colab)\n",
    "    >>> df = load_data(in_colab=True)\n",
    "    >>> df.head()\n",
    "\n",
    "    >>> # Load from local path (outside Colab)\n",
    "    >>> df = load_data(in_colab=False)\n",
    "    >>> df.head()\n",
    "    \"\"\"\n",
    "\n",
    "    try:\n",
    "        if in_colab:\n",
    "            DEBITCARDS_DATASET_URL = (\n",
    "                \"https://raw.githubusercontent.com/\"\n",
    "                \"iragca/DS412-Time-Series-Analysis-and-Stochastic-Processes/\"\n",
    "                \"refs/heads/master/data/external/debitcards.csv\"\n",
    "                )\n",
    "            df = pd.read_csv(DEBITCARDS_DATASET_URL)\n",
    "        else:\n",
    "\n",
    "            DEBITCARDS_DATASET_PATH = DirectoryPaths.EXTERNAL_DATA.value / \"debitcards.csv\"\n",
    "            df = pd.read_csv(DEBITCARDS_DATASET_PATH)\n",
    "    except Exception as e:\n",
    "        print(f\"Error loading dataset: {e}\")\n",
    "        df = pd.DataFrame() \n",
    "\n",
    "    return df"
   ]
  },
  {
   "cell_type": "code",
   "execution_count": 4,
   "id": "cade3128",
   "metadata": {},
   "outputs": [
    {
     "data": {
      "application/vnd.microsoft.datawrangler.viewer.v0+json": {
       "columns": [
        {
         "name": "index",
         "rawType": "int64",
         "type": "integer"
        },
        {
         "name": "index",
         "rawType": "object",
         "type": "string"
        },
        {
         "name": "value",
         "rawType": "float64",
         "type": "float"
        }
       ],
       "ref": "0f4e3a8b-5e9d-4051-be32-afb7180e7464",
       "rows": [
        [
         "0",
         "2000 Jan",
         "7.204"
        ],
        [
         "1",
         "2000 Feb",
         "7.335"
        ],
        [
         "2",
         "2000 Mar",
         "7.812"
        ],
        [
         "3",
         "2000 Apr",
         "7.413"
        ],
        [
         "4",
         "2000 May",
         "9.136"
        ]
       ],
       "shape": {
        "columns": 2,
        "rows": 5
       }
      },
      "text/html": [
       "<div>\n",
       "<style scoped>\n",
       "    .dataframe tbody tr th:only-of-type {\n",
       "        vertical-align: middle;\n",
       "    }\n",
       "\n",
       "    .dataframe tbody tr th {\n",
       "        vertical-align: top;\n",
       "    }\n",
       "\n",
       "    .dataframe thead th {\n",
       "        text-align: right;\n",
       "    }\n",
       "</style>\n",
       "<table border=\"1\" class=\"dataframe\">\n",
       "  <thead>\n",
       "    <tr style=\"text-align: right;\">\n",
       "      <th></th>\n",
       "      <th>index</th>\n",
       "      <th>value</th>\n",
       "    </tr>\n",
       "  </thead>\n",
       "  <tbody>\n",
       "    <tr>\n",
       "      <th>0</th>\n",
       "      <td>2000 Jan</td>\n",
       "      <td>7.204</td>\n",
       "    </tr>\n",
       "    <tr>\n",
       "      <th>1</th>\n",
       "      <td>2000 Feb</td>\n",
       "      <td>7.335</td>\n",
       "    </tr>\n",
       "    <tr>\n",
       "      <th>2</th>\n",
       "      <td>2000 Mar</td>\n",
       "      <td>7.812</td>\n",
       "    </tr>\n",
       "    <tr>\n",
       "      <th>3</th>\n",
       "      <td>2000 Apr</td>\n",
       "      <td>7.413</td>\n",
       "    </tr>\n",
       "    <tr>\n",
       "      <th>4</th>\n",
       "      <td>2000 May</td>\n",
       "      <td>9.136</td>\n",
       "    </tr>\n",
       "  </tbody>\n",
       "</table>\n",
       "</div>"
      ],
      "text/plain": [
       "      index  value\n",
       "0  2000 Jan  7.204\n",
       "1  2000 Feb  7.335\n",
       "2  2000 Mar  7.812\n",
       "3  2000 Apr  7.413\n",
       "4  2000 May  9.136"
      ]
     },
     "execution_count": 4,
     "metadata": {},
     "output_type": "execute_result"
    }
   ],
   "source": [
    "df_raw = load_data(IN_COLAB)\n",
    "df_raw.head()"
   ]
  },
  {
   "cell_type": "code",
   "execution_count": 5,
   "id": "cc658b7e",
   "metadata": {},
   "outputs": [
    {
     "data": {
      "application/vnd.microsoft.datawrangler.viewer.v0+json": {
       "columns": [
        {
         "name": "index",
         "rawType": "object",
         "type": "string"
        },
        {
         "name": "value",
         "rawType": "float64",
         "type": "float"
        }
       ],
       "ref": "337e56c8-2cfa-4f8e-b2e4-55bd11a9b31a",
       "rows": [
        [
         "count",
         "164.0"
        ],
        [
         "mean",
         "15.82819512195122"
        ],
        [
         "std",
         "4.809113467372334"
        ],
        [
         "min",
         "7.204"
        ],
        [
         "25%",
         "11.65475"
        ],
        [
         "50%",
         "16.3365"
        ],
        [
         "75%",
         "19.231"
        ],
        [
         "max",
         "26.675"
        ]
       ],
       "shape": {
        "columns": 1,
        "rows": 8
       }
      },
      "text/html": [
       "<div>\n",
       "<style scoped>\n",
       "    .dataframe tbody tr th:only-of-type {\n",
       "        vertical-align: middle;\n",
       "    }\n",
       "\n",
       "    .dataframe tbody tr th {\n",
       "        vertical-align: top;\n",
       "    }\n",
       "\n",
       "    .dataframe thead th {\n",
       "        text-align: right;\n",
       "    }\n",
       "</style>\n",
       "<table border=\"1\" class=\"dataframe\">\n",
       "  <thead>\n",
       "    <tr style=\"text-align: right;\">\n",
       "      <th></th>\n",
       "      <th>value</th>\n",
       "    </tr>\n",
       "  </thead>\n",
       "  <tbody>\n",
       "    <tr>\n",
       "      <th>count</th>\n",
       "      <td>164.000000</td>\n",
       "    </tr>\n",
       "    <tr>\n",
       "      <th>mean</th>\n",
       "      <td>15.828195</td>\n",
       "    </tr>\n",
       "    <tr>\n",
       "      <th>std</th>\n",
       "      <td>4.809113</td>\n",
       "    </tr>\n",
       "    <tr>\n",
       "      <th>min</th>\n",
       "      <td>7.204000</td>\n",
       "    </tr>\n",
       "    <tr>\n",
       "      <th>25%</th>\n",
       "      <td>11.654750</td>\n",
       "    </tr>\n",
       "    <tr>\n",
       "      <th>50%</th>\n",
       "      <td>16.336500</td>\n",
       "    </tr>\n",
       "    <tr>\n",
       "      <th>75%</th>\n",
       "      <td>19.231000</td>\n",
       "    </tr>\n",
       "    <tr>\n",
       "      <th>max</th>\n",
       "      <td>26.675000</td>\n",
       "    </tr>\n",
       "  </tbody>\n",
       "</table>\n",
       "</div>"
      ],
      "text/plain": [
       "            value\n",
       "count  164.000000\n",
       "mean    15.828195\n",
       "std      4.809113\n",
       "min      7.204000\n",
       "25%     11.654750\n",
       "50%     16.336500\n",
       "75%     19.231000\n",
       "max     26.675000"
      ]
     },
     "execution_count": 5,
     "metadata": {},
     "output_type": "execute_result"
    }
   ],
   "source": [
    "df_raw.describe()"
   ]
  },
  {
   "cell_type": "code",
   "execution_count": 6,
   "id": "9e3c38f9",
   "metadata": {},
   "outputs": [
    {
     "name": "stdout",
     "output_type": "stream",
     "text": [
      "<class 'pandas.core.frame.DataFrame'>\n",
      "RangeIndex: 164 entries, 0 to 163\n",
      "Data columns (total 2 columns):\n",
      " #   Column  Non-Null Count  Dtype  \n",
      "---  ------  --------------  -----  \n",
      " 0   index   164 non-null    object \n",
      " 1   value   164 non-null    float64\n",
      "dtypes: float64(1), object(1)\n",
      "memory usage: 2.7+ KB\n"
     ]
    }
   ],
   "source": [
    "df_raw.info()"
   ]
  },
  {
   "cell_type": "markdown",
   "id": "1e555bc1",
   "metadata": {},
   "source": [
    "## Preprocessing Data"
   ]
  },
  {
   "cell_type": "code",
   "execution_count": 7,
   "id": "68844d3d",
   "metadata": {},
   "outputs": [],
   "source": [
    "class Preprocessor:\n",
    "\n",
    "    def __init__(self, df: pd.DataFrame):\n",
    "        self.df = df.copy()\n",
    "\n",
    "    def __call__(self) -> pd.DataFrame:\n",
    "        self.rename_columns()\n",
    "        self.parse_dates()\n",
    "        self.reset_index()\n",
    "        return self.df\n",
    "\n",
    "    def rename_columns(self) -> pd.DataFrame:\n",
    "        columns = {\n",
    "            \"index\": \"Date\",\n",
    "            \"value\": \"Debit Cards\"\n",
    "        }\n",
    "        self.df.rename(columns=columns, inplace=True)\n",
    "        return self.df\n",
    "    \n",
    "    def parse_dates(self) -> pd.DataFrame:\n",
    "        self.df[\"Date\"] = pd.to_datetime(self.df[\"Date\"], format=\"%Y %b\")\n",
    "        self.df.set_index(\"Date\", inplace=True)\n",
    "        return self.df\n",
    "    \n",
    "    def reset_index(self) -> pd.DataFrame:\n",
    "        self.df.reset_index(inplace=True)\n",
    "        return self.df"
   ]
  },
  {
   "cell_type": "code",
   "execution_count": 8,
   "id": "2ee16173",
   "metadata": {},
   "outputs": [
    {
     "data": {
      "application/vnd.microsoft.datawrangler.viewer.v0+json": {
       "columns": [
        {
         "name": "index",
         "rawType": "int64",
         "type": "integer"
        },
        {
         "name": "Date",
         "rawType": "datetime64[ns]",
         "type": "datetime"
        },
        {
         "name": "Debit Cards",
         "rawType": "float64",
         "type": "float"
        }
       ],
       "ref": "f5e1c369-30d3-47a3-883a-57c1f0d5e519",
       "rows": [
        [
         "0",
         "2000-01-01 00:00:00",
         "7.204"
        ],
        [
         "1",
         "2000-02-01 00:00:00",
         "7.335"
        ],
        [
         "2",
         "2000-03-01 00:00:00",
         "7.812"
        ],
        [
         "3",
         "2000-04-01 00:00:00",
         "7.413"
        ],
        [
         "4",
         "2000-05-01 00:00:00",
         "9.136"
        ],
        [
         "5",
         "2000-06-01 00:00:00",
         "8.725"
        ],
        [
         "6",
         "2000-07-01 00:00:00",
         "8.751"
        ],
        [
         "7",
         "2000-08-01 00:00:00",
         "9.609"
        ],
        [
         "8",
         "2000-09-01 00:00:00",
         "8.601"
        ],
        [
         "9",
         "2000-10-01 00:00:00",
         "8.93"
        ],
        [
         "10",
         "2000-11-01 00:00:00",
         "8.835"
        ],
        [
         "11",
         "2000-12-01 00:00:00",
         "11.688"
        ],
        [
         "12",
         "2001-01-01 00:00:00",
         "8.078"
        ],
        [
         "13",
         "2001-02-01 00:00:00",
         "7.892"
        ],
        [
         "14",
         "2001-03-01 00:00:00",
         "8.151"
        ],
        [
         "15",
         "2001-04-01 00:00:00",
         "8.738"
        ],
        [
         "16",
         "2001-05-01 00:00:00",
         "9.416"
        ],
        [
         "17",
         "2001-06-01 00:00:00",
         "9.533"
        ],
        [
         "18",
         "2001-07-01 00:00:00",
         "9.943"
        ],
        [
         "19",
         "2001-08-01 00:00:00",
         "10.859"
        ],
        [
         "20",
         "2001-09-01 00:00:00",
         "8.789"
        ],
        [
         "21",
         "2001-10-01 00:00:00",
         "9.96"
        ],
        [
         "22",
         "2001-11-01 00:00:00",
         "9.619"
        ],
        [
         "23",
         "2001-12-01 00:00:00",
         "12.9"
        ],
        [
         "24",
         "2002-01-01 00:00:00",
         "8.62"
        ],
        [
         "25",
         "2002-02-01 00:00:00",
         "8.401"
        ],
        [
         "26",
         "2002-03-01 00:00:00",
         "8.546"
        ],
        [
         "27",
         "2002-04-01 00:00:00",
         "10.004"
        ],
        [
         "28",
         "2002-05-01 00:00:00",
         "10.675"
        ],
        [
         "29",
         "2002-06-01 00:00:00",
         "10.115"
        ],
        [
         "30",
         "2002-07-01 00:00:00",
         "11.206"
        ],
        [
         "31",
         "2002-08-01 00:00:00",
         "11.555"
        ],
        [
         "32",
         "2002-09-01 00:00:00",
         "10.453"
        ],
        [
         "33",
         "2002-10-01 00:00:00",
         "10.421"
        ],
        [
         "34",
         "2002-11-01 00:00:00",
         "9.95"
        ],
        [
         "35",
         "2002-12-01 00:00:00",
         "13.975"
        ],
        [
         "36",
         "2003-01-01 00:00:00",
         "9.315"
        ],
        [
         "37",
         "2003-02-01 00:00:00",
         "9.366"
        ],
        [
         "38",
         "2003-03-01 00:00:00",
         "9.91"
        ],
        [
         "39",
         "2003-04-01 00:00:00",
         "10.302"
        ],
        [
         "40",
         "2003-05-01 00:00:00",
         "11.371"
        ],
        [
         "41",
         "2003-06-01 00:00:00",
         "11.857"
        ],
        [
         "42",
         "2003-07-01 00:00:00",
         "12.387"
        ],
        [
         "43",
         "2003-08-01 00:00:00",
         "12.421"
        ],
        [
         "44",
         "2003-09-01 00:00:00",
         "12.073"
        ],
        [
         "45",
         "2003-10-01 00:00:00",
         "11.963"
        ],
        [
         "46",
         "2003-11-01 00:00:00",
         "10.666"
        ],
        [
         "47",
         "2003-12-01 00:00:00",
         "15.613"
        ],
        [
         "48",
         "2004-01-01 00:00:00",
         "10.586"
        ],
        [
         "49",
         "2004-02-01 00:00:00",
         "10.558"
        ]
       ],
       "shape": {
        "columns": 2,
        "rows": 164
       }
      },
      "text/html": [
       "<div>\n",
       "<style scoped>\n",
       "    .dataframe tbody tr th:only-of-type {\n",
       "        vertical-align: middle;\n",
       "    }\n",
       "\n",
       "    .dataframe tbody tr th {\n",
       "        vertical-align: top;\n",
       "    }\n",
       "\n",
       "    .dataframe thead th {\n",
       "        text-align: right;\n",
       "    }\n",
       "</style>\n",
       "<table border=\"1\" class=\"dataframe\">\n",
       "  <thead>\n",
       "    <tr style=\"text-align: right;\">\n",
       "      <th></th>\n",
       "      <th>Date</th>\n",
       "      <th>Debit Cards</th>\n",
       "    </tr>\n",
       "  </thead>\n",
       "  <tbody>\n",
       "    <tr>\n",
       "      <th>0</th>\n",
       "      <td>2000-01-01</td>\n",
       "      <td>7.204</td>\n",
       "    </tr>\n",
       "    <tr>\n",
       "      <th>1</th>\n",
       "      <td>2000-02-01</td>\n",
       "      <td>7.335</td>\n",
       "    </tr>\n",
       "    <tr>\n",
       "      <th>2</th>\n",
       "      <td>2000-03-01</td>\n",
       "      <td>7.812</td>\n",
       "    </tr>\n",
       "    <tr>\n",
       "      <th>3</th>\n",
       "      <td>2000-04-01</td>\n",
       "      <td>7.413</td>\n",
       "    </tr>\n",
       "    <tr>\n",
       "      <th>4</th>\n",
       "      <td>2000-05-01</td>\n",
       "      <td>9.136</td>\n",
       "    </tr>\n",
       "    <tr>\n",
       "      <th>...</th>\n",
       "      <td>...</td>\n",
       "      <td>...</td>\n",
       "    </tr>\n",
       "    <tr>\n",
       "      <th>159</th>\n",
       "      <td>2013-04-01</td>\n",
       "      <td>21.573</td>\n",
       "    </tr>\n",
       "    <tr>\n",
       "      <th>160</th>\n",
       "      <td>2013-05-01</td>\n",
       "      <td>23.685</td>\n",
       "    </tr>\n",
       "    <tr>\n",
       "      <th>161</th>\n",
       "      <td>2013-06-01</td>\n",
       "      <td>22.104</td>\n",
       "    </tr>\n",
       "    <tr>\n",
       "      <th>162</th>\n",
       "      <td>2013-07-01</td>\n",
       "      <td>25.340</td>\n",
       "    </tr>\n",
       "    <tr>\n",
       "      <th>163</th>\n",
       "      <td>2013-08-01</td>\n",
       "      <td>25.211</td>\n",
       "    </tr>\n",
       "  </tbody>\n",
       "</table>\n",
       "<p>164 rows × 2 columns</p>\n",
       "</div>"
      ],
      "text/plain": [
       "          Date  Debit Cards\n",
       "0   2000-01-01        7.204\n",
       "1   2000-02-01        7.335\n",
       "2   2000-03-01        7.812\n",
       "3   2000-04-01        7.413\n",
       "4   2000-05-01        9.136\n",
       "..         ...          ...\n",
       "159 2013-04-01       21.573\n",
       "160 2013-05-01       23.685\n",
       "161 2013-06-01       22.104\n",
       "162 2013-07-01       25.340\n",
       "163 2013-08-01       25.211\n",
       "\n",
       "[164 rows x 2 columns]"
      ]
     },
     "execution_count": 8,
     "metadata": {},
     "output_type": "execute_result"
    }
   ],
   "source": [
    "preprocessor = Preprocessor(df_raw)\n",
    "df = preprocessor()\n",
    "df"
   ]
  },
  {
   "cell_type": "markdown",
   "id": "594f4dff",
   "metadata": {},
   "source": [
    "## Descriptive Data Analysis"
   ]
  },
  {
   "cell_type": "code",
   "execution_count": 9,
   "id": "e229909e",
   "metadata": {},
   "outputs": [
    {
     "data": {
      "image/png": "[encoded data removed]",
      "text/plain": [
       "<Figure size 400x250 with 1 Axes>"
      ]
     },
     "metadata": {},
     "output_type": "display_data"
    }
   ],
   "source": [
    "descriptive_df = df.describe()\n",
    "sns.barplot(data=descriptive_df, y=descriptive_df.index, x=\"Debit Cards\", orient=\"h\")\n",
    "plt.ylabel(\"Statistics\")\n",
    "plt.xlabel(\"Value\")\n",
    "plt.title(\"Descriptive Statistics for 'Debit Cards'\")\n",
    "\n",
    "# Plot every statistic value on the bars\n",
    "for statistic in descriptive_df.index:\n",
    "    plt.text(\n",
    "        x=descriptive_df.loc[statistic, \"Debit Cards\"],\n",
    "        y=statistic,\n",
    "        s=f\"{descriptive_df.loc[statistic, 'Debit Cards']:.2f}\",\n",
    "        va=\"center\",\n",
    "        ha=\"left\",\n",
    "        fontsize=8,\n",
    "        color=\"black\"\n",
    "    )"
   ]
  },
  {
   "cell_type": "code",
   "execution_count": 10,
   "id": "3931558f",
   "metadata": {},
   "outputs": [
    {
     "data": {
      "text/plain": [
       "Text(0.5, 1.0, \"'Debit Cards' for every month (??)\")"
      ]
     },
     "execution_count": 10,
     "metadata": {},
     "output_type": "execute_result"
    },
    {
     "data": {
      "image/png": "[encoded data removed]",
      "text/plain": [
       "<Figure size 400x250 with 1 Axes>"
      ]
     },
     "metadata": {},
     "output_type": "display_data"
    }
   ],
   "source": [
    "sns.lineplot(data=df, x=df[\"Date\"], y=\"Debit Cards\")\n",
    "plt.title(\"'Debit Cards' for every month (??)\")"
   ]
  },
  {
   "cell_type": "code",
   "execution_count": 11,
   "id": "187b40d5",
   "metadata": {},
   "outputs": [
    {
     "data": {
      "text/plain": [
       "Text(0, 0.5, 'Frequency')"
      ]
     },
     "execution_count": 11,
     "metadata": {},
     "output_type": "execute_result"
    },
    {
     "data": {
      "image/png": "[encoded data removed]",
      "text/plain": [
       "<Figure size 400x250 with 1 Axes>"
      ]
     },
     "metadata": {},
     "output_type": "display_data"
    }
   ],
   "source": [
    "sns.histplot(data=df, x=\"Debit Cards\", bins=20, kde=True)\n",
    "plt.title(\"Histogram of 'Debit Cards'\")\n",
    "plt.ylabel(\"Frequency\")"
   ]
  },
  {
   "cell_type": "markdown",
   "id": "56964a5f",
   "metadata": {},
   "source": [
    "## Inferential Data Analysis"
   ]
  },
  {
   "cell_type": "markdown",
   "id": "0fd448df",
   "metadata": {},
   "source": [
    "## Report\n",
    "\n",
    "Guide questions for the report:\n",
    "\n",
    "1. What is the data about? (State your observation and make assumptions)\n",
    "2. Descriptive Analysis: what insights can be made?\n",
    "3. Inferential Analysis: Is linear regression a good fit? (Perform both sklearn and statsmodels approach)\n",
    "4. What is your conclusion?\n",
    "5. Are there insights and recommendations you can make?"
   ]
  },
  {
   "cell_type": "markdown",
   "id": "33e9a29a",
   "metadata": {},
   "source": [
    "### 1. About the Data"
   ]
  },
  {
   "cell_type": "markdown",
   "id": "71992dce",
   "metadata": {},
   "source": [
    "### 2. Descriptive Insights"
   ]
  },
  {
   "cell_type": "markdown",
   "id": "4426826f",
   "metadata": {},
   "source": [
    "### 3. Inferential Insights"
   ]
  },
  {
   "cell_type": "markdown",
   "id": "2f632da8",
   "metadata": {},
   "source": [
    "### 4. Conclusion"
   ]
  },
  {
   "cell_type": "markdown",
   "id": "bac74244",
   "metadata": {},
   "source": [
    "### 5. Takeaways and Recommendations"
   ]
  }
 ],
 "metadata": {
  "kernelspec": {
   "display_name": "src",
   "language": "python",
   "name": "python3"
  },
  "language_info": {
   "codemirror_mode": {
    "name": "ipython",
    "version": 3
   },
   "file_extension": ".py",
   "mimetype": "text/x-python",
   "name": "python",
   "nbconvert_exporter": "python",
   "pygments_lexer": "ipython3",
   "version": "3.12.11"
  }
 },
 "nbformat": 4,
 "nbformat_minor": 5
}
