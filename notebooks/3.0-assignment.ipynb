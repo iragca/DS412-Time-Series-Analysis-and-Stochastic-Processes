{
 "cells": [
  {
   "cell_type": "code",
   "execution_count": 89,
   "id": "a8c35a47",
   "metadata": {},
   "outputs": [],
   "source": [
    "from collections import deque\n",
    "\n",
    "import numpy as np\n",
    "import polars as pl\n",
    "import seaborn as sns\n",
    "\n",
    "import matplotlib.pyplot as plt\n",
    "from src.config import DirectoryPaths\n",
    "from src.matplotlib import Styles\n",
    "\n",
    "plt.style.use(Styles.CMR10.value)"
   ]
  },
  {
   "cell_type": "markdown",
   "id": "2bbac69e",
   "metadata": {},
   "source": [
    "# Load the data"
   ]
  },
  {
   "cell_type": "code",
   "execution_count": 90,
   "id": "accf64a9",
   "metadata": {},
   "outputs": [
    {
     "data": {
      "text/html": [
       "<div><style>\n",
       ".dataframe > thead > tr,\n",
       ".dataframe > tbody > tr {\n",
       "  text-align: right;\n",
       "  white-space: pre-wrap;\n",
       "}\n",
       "</style>\n",
       "<small>shape: (84, 2)</small><table border=\"1\" class=\"dataframe\"><thead><tr><th>Date</th><th>Earnings Per Share</th></tr><tr><td>date</td><td>f64</td></tr></thead><tbody><tr><td>1960-01-01</td><td>0.71</td></tr><tr><td>1960-04-01</td><td>0.63</td></tr><tr><td>1960-07-02</td><td>0.85</td></tr><tr><td>1960-10-01</td><td>0.44</td></tr><tr><td>1961-01-01</td><td>0.61</td></tr><tr><td>&hellip;</td><td>&hellip;</td></tr><tr><td>1979-10-01</td><td>9.99</td></tr><tr><td>1980-01-01</td><td>16.2</td></tr><tr><td>1980-04-01</td><td>14.67</td></tr><tr><td>1980-07-02</td><td>16.02</td></tr><tr><td>1980-10-01</td><td>11.61</td></tr></tbody></table></div>"
      ],
      "text/plain": [
       "shape: (84, 2)\n",
       "┌────────────┬────────────────────┐\n",
       "│ Date       ┆ Earnings Per Share │\n",
       "│ ---        ┆ ---                │\n",
       "│ date       ┆ f64                │\n",
       "╞════════════╪════════════════════╡\n",
       "│ 1960-01-01 ┆ 0.71               │\n",
       "│ 1960-04-01 ┆ 0.63               │\n",
       "│ 1960-07-02 ┆ 0.85               │\n",
       "│ 1960-10-01 ┆ 0.44               │\n",
       "│ 1961-01-01 ┆ 0.61               │\n",
       "│ …          ┆ …                  │\n",
       "│ 1979-10-01 ┆ 9.99               │\n",
       "│ 1980-01-01 ┆ 16.2               │\n",
       "│ 1980-04-01 ┆ 14.67              │\n",
       "│ 1980-07-02 ┆ 16.02              │\n",
       "│ 1980-10-01 ┆ 11.61              │\n",
       "└────────────┴────────────────────┘"
      ]
     },
     "execution_count": 90,
     "metadata": {},
     "output_type": "execute_result"
    }
   ],
   "source": [
    "def load_data() -> pl.DataFrame:\n",
    "    \"\"\"Load the dataset from a CSV file and preprocess it.\n",
    "\n",
    "    Returns:\n",
    "        pl.DataFrame: Preprocessed dataset with 'Date' and 'Earnings Per Share' columns.\n",
    "    \"\"\"\n",
    "    return (\n",
    "        pl.read_csv(\n",
    "            DirectoryPaths.EXTERNAL_DATA.value / \"jj.csv\",\n",
    "            schema={\"date\": pl.Date, \"value\": pl.Float64},\n",
    "        )\n",
    "        .with_columns(\n",
    "            [pl.col(\"date\").alias(\"Date\"), pl.col(\"value\").alias(\"Earnings Per Share\")]\n",
    "        )\n",
    "        .select([\"Date\", \"Earnings Per Share\"])\n",
    "    )\n",
    "\n",
    "\n",
    "dataset = load_data()\n",
    "dataset"
   ]
  },
  {
   "cell_type": "markdown",
   "id": "6b7a19d5",
   "metadata": {},
   "source": [
    "## Splitting the data set"
   ]
  },
  {
   "cell_type": "code",
   "execution_count": null,
   "id": "aee8d38b",
   "metadata": {},
   "outputs": [],
   "source": [
    "def split_data(ratio: float, data: pl.Series) -> tuple[pl.Series, pl.Series]:\n",
    "    \"\"\"Split the dataset into training and testing sets based on the given ratio.\n",
    "\n",
    "    Args:\n",
    "        ratio (float): The ratio of the training set size to the total dataset size.\n",
    "        data (pl.Series): The dataset to be split.\n",
    "\n",
    "    Returns:\n",
    "        tuple[pl.Series, pl.Series]: A tuple containing the training and testing sets.\n",
    "    \"\"\"\n",
    "    dataset_size = data.len()\n",
    "    train_size = int(ratio * dataset_size)\n",
    "                # drop the first element\n",
    "    train, test = data[1:train_size], data[train_size:]\n",
    "    return train, test\n",
    "\n",
    "train, test = split_data(0.8, dataset[\"Earnings Per Share\"])"
   ]
  },
  {
   "cell_type": "markdown",
   "id": "c20bf474",
   "metadata": {},
   "source": [
    "# Rolling Forecasting Method"
   ]
  },
  {
   "cell_type": "code",
   "execution_count": 166,
   "id": "1ef25d55",
   "metadata": {},
   "outputs": [],
   "source": [
    "from statsmodels.tsa.ar_model import AutoReg\n",
    "\n",
    "WINDOW_SIZE = 12\n",
    "\n",
    "autoreg = AutoReg(train.to_list(), lags=WINDOW_SIZE)\n",
    "autoreg_fit = autoreg.fit()\n",
    "predictions = autoreg_fit.predict(start=len(train), end=len(train) + len(test) - 1, dynamic=False)\n",
    "predictions_series = pl.Series(predictions)"
   ]
  },
  {
   "cell_type": "code",
   "execution_count": 167,
   "id": "8dac0434",
   "metadata": {},
   "outputs": [
    {
     "data": {
      "text/plain": [
       "Text(0, 0.5, 'Earnings Per Share')"
      ]
     },
     "execution_count": 167,
     "metadata": {},
     "output_type": "execute_result"
    },
    {
     "data": {
      "image/png": "[encoded data removed]",
      "text/plain": [
       "<Figure size 400x250 with 1 Axes>"
      ]
     },
     "metadata": {},
     "output_type": "display_data"
    }
   ],
   "source": [
    "sns.lineplot(x=dataset[\"Date\"], y=dataset[\"Earnings Per Share\"], label=\"Actual\")\n",
    "sns.lineplot(x=dataset[\"Date\"][-len(test):], y=predictions_series, label=\"Predicted\")\n",
    "plt.xlabel(\"Date\")\n",
    "plt.ylabel(\"Earnings Per Share\")"
   ]
  },
  {
   "cell_type": "code",
   "execution_count": 168,
   "id": "c9f8df21",
   "metadata": {},
   "outputs": [],
   "source": [
    "from typing import Union\n",
    "\n",
    "\n",
    "class RollingForecaster:\n",
    "    \"\"\"\n",
    "    Rolling linear forecaster using fixed coefficients.\n",
    "\n",
    "    This class maintains a sliding window of recent time series values\n",
    "    and computes 1-step-ahead forecasts using a dot product of the\n",
    "    stored data and precomputed coefficients plus a bias term.\n",
    "\n",
    "    Parameters\n",
    "    ----------\n",
    "    coefficients : list or numpy.ndarray\n",
    "        Coefficients for the forecast model, ordered from oldest lag\n",
    "        to the most recent (e.g., ``[coef(t-2), coef(t-1), coef(t)]``).\n",
    "\n",
    "    data : list, numpy.ndarray, or polars.Series\n",
    "        Initial window of past observations, ordered from oldest to most\n",
    "        recent (e.g., ``[x(t-2), x(t-1), x(t)]``). The length must match\n",
    "        the number of coefficients.\n",
    "    \n",
    "    bias : int, optional\n",
    "        Intercept term added to the dot product, by default 0.\n",
    "\n",
    "    Notes\n",
    "    -----\n",
    "    - If `data` is shorter than the number of `coefficients`, calling\n",
    "      ``forecast()`` will raise an error.\n",
    "    - Internally, data is stored in a deque with a fixed maximum length\n",
    "      equal to the number of coefficients.\n",
    "    \"\"\"\n",
    "\n",
    "    def __init__(\n",
    "        self,\n",
    "        coefficients: Union[list, np.ndarray],\n",
    "        data: Union[list, np.ndarray, pl.Series],\n",
    "        bias: int = 0\n",
    "    ):\n",
    "        \"\"\"\n",
    "        Initialize the rolling forecaster.\n",
    "\n",
    "        Parameters\n",
    "        ----------\n",
    "        coefficients : list or numpy.ndarray\n",
    "            Coefficients for the forecast model, ordered from oldest lag\n",
    "            to the most recent (e.g., ``[coef(t-2), coef(t-1), coef(t)]``).\n",
    "        data : list, numpy.ndarray, or polars.Series\n",
    "            Initial window of past observations, ordered from oldest to most\n",
    "            recent (e.g., ``[x(t-2), x(t-1), x(t)]``). The length must match\n",
    "            the number of coefficients.\n",
    "        bias : int, optional\n",
    "            Intercept term added to the dot product, by default 0.\n",
    "\n",
    "        Notes\n",
    "        -----\n",
    "        Given time step ``t`` and the next forecast (to predict) step ``t+1``:\n",
    "\n",
    "        The forecast is computed as:\n",
    "\n",
    "        ``forecast(t+1) = dot(coefficients, data) + bias``\n",
    "\n",
    "        where:\n",
    "            - ``data`` is the rolling window of observations ``[x(t-lag), ..., x(t)]``\n",
    "            - ``coefficients`` are aligned in the same order\n",
    "            - ``bias`` is the intercept term\n",
    "\n",
    "        Example\n",
    "        -------\n",
    "        If::\n",
    "\n",
    "            data = [x(t-2), x(t-1), x(t)]\n",
    "            coefficients = [coef(t-2), coef(t-1), coef(t)]\n",
    "\n",
    "        then::\n",
    "\n",
    "            forecast(t+1) = coef(t-2)*x(t-2) + coef(t-1)*x(t-1) + coef(t)*x(t) + bias\n",
    "        \"\"\"\n",
    "        if isinstance(data, list):\n",
    "            data = np.array(data, dtype=float)\n",
    "        elif isinstance(data, pl.Series):\n",
    "            data = data.to_numpy()\n",
    "\n",
    "        if isinstance(coefficients, list):\n",
    "            coefficients = np.array(coefficients)\n",
    "\n",
    "        self.window_size = len(coefficients)\n",
    "        self.data = deque(data, maxlen=self.window_size)\n",
    "        self.coefficients = coefficients\n",
    "        self.bias = bias\n",
    "\n",
    "    def update_data(self, latest_value: float):\n",
    "        \"\"\"\n",
    "        Append a new observation to the rolling window.\n",
    "\n",
    "        Parameters\n",
    "        ----------\n",
    "        latest_value : float\n",
    "            The most recent time series value x(t+1).\n",
    "        \"\"\"\n",
    "        self.data.append(latest_value)\n",
    "\n",
    "    def forecast(self) -> float:\n",
    "        \"\"\"\n",
    "        Compute the forecast using the current window.\n",
    "\n",
    "        Returns\n",
    "        -------\n",
    "        float\n",
    "            The 1-step-ahead forecast value:\n",
    "            ``dot(coefficients, data_window) + bias``.\n",
    "\n",
    "        Raises\n",
    "        ------\n",
    "        ValueError\n",
    "            If the rolling window does not yet contain enough values\n",
    "            to match the number of coefficients.\n",
    "        \"\"\"\n",
    "        if len(self.data) != self.window_size:\n",
    "            raise ValueError(\n",
    "                f\"Not enough data to make a forecast. \"\n",
    "                f\"Coefficients length: {self.window_size}, \"\n",
    "                f\"Data length: {len(self.data)}\")\n",
    "        \n",
    "        return float(np.dot(self.coefficients, self.data) + self.bias)\n",
    "    \n",
    "    __next__ = forecast"
   ]
  },
  {
   "cell_type": "code",
   "execution_count": 169,
   "id": "4478c510",
   "metadata": {},
   "outputs": [
    {
     "data": {
      "text/html": [
       "<div><style>\n",
       ".dataframe > thead > tr,\n",
       ".dataframe > tbody > tr {\n",
       "  text-align: right;\n",
       "  white-space: pre-wrap;\n",
       "}\n",
       "</style>\n",
       "<small>shape: (21,)</small><table border=\"1\" class=\"dataframe\"><thead><tr><th></th></tr><tr><td>f64</td></tr></thead><tbody><tr><td>6.82333</td></tr><tr><td>8.851993</td></tr><tr><td>10.285858</td></tr><tr><td>8.945962</td></tr><tr><td>7.720722</td></tr><tr><td>&hellip;</td></tr><tr><td>11.789376</td></tr><tr><td>18.087933</td></tr><tr><td>17.265105</td></tr><tr><td>16.844103</td></tr><tr><td>12.971403</td></tr></tbody></table></div>"
      ],
      "text/plain": [
       "shape: (21,)\n",
       "Series: '' [f64]\n",
       "[\n",
       "\t6.82333\n",
       "\t8.851993\n",
       "\t10.285858\n",
       "\t8.945962\n",
       "\t7.720722\n",
       "\t…\n",
       "\t11.789376\n",
       "\t18.087933\n",
       "\t17.265105\n",
       "\t16.844103\n",
       "\t12.971403\n",
       "]"
      ]
     },
     "execution_count": 169,
     "metadata": {},
     "output_type": "execute_result"
    }
   ],
   "source": [
    "coefs = autoreg_fit.params[1:]\n",
    "bias = autoreg_fit.params[0]\n",
    "\n",
    "forecaster = RollingForecaster(\n",
    "    coefficients=coefs[::-1], \n",
    "    data=train[-len(coefs):], \n",
    "    bias=bias\n",
    "    )\n",
    "\n",
    "predictions = []\n",
    "for actual in test:\n",
    "    prediction = forecaster.forecast()\n",
    "    predictions.append(prediction)\n",
    "    forecaster.update_data(actual)\n",
    "\n",
    "for quarter in range(4):\n",
    "    prediction = forecaster.forecast()\n",
    "    predictions.append(prediction)\n",
    "    forecaster.update_data(prediction)\n",
    "\n",
    "\n",
    "predictions_series = pl.Series(predictions)\n",
    "predictions_series"
   ]
  },
  {
   "cell_type": "code",
   "execution_count": 170,
   "id": "97345eb8",
   "metadata": {},
   "outputs": [
    {
     "data": {
      "text/plain": [
       "Text(0.5, 1.0, 'Rolling Forecast vs Actual Observations')"
      ]
     },
     "execution_count": 170,
     "metadata": {},
     "output_type": "execute_result"
    },
    {
     "data": {
      "image/png": "[encoded data removed]",
      "text/plain": [
       "<Figure size 400x250 with 1 Axes>"
      ]
     },
     "metadata": {},
     "output_type": "display_data"
    }
   ],
   "source": [
    "new_dates = pl.date_range(\n",
    "    start=dataset[\"Date\"][len(train)],\n",
    "    end=dataset[\"Date\"][-1] + pl.duration(days=90 * 4),\n",
    "    interval=\"3mo\",\n",
    "    eager=True\n",
    ")\n",
    "\n",
    "sns.lineplot(x=dataset[\"Date\"], y=dataset[\"Earnings Per Share\"], label=\"Actual\")\n",
    "sns.lineplot(x=new_dates, y=predictions_series, label=\"Predicted\")\n",
    "plt.xlabel(\"Date\")\n",
    "plt.ylabel(\"Earnings Per Share\")\n",
    "plt.title(\"Rolling Forecast vs Actual Observations\")"
   ]
  },
  {
   "cell_type": "code",
   "execution_count": 136,
   "id": "8ae0f674",
   "metadata": {},
   "outputs": [
    {
     "data": {
      "text/plain": [
       "[3, 4]"
      ]
     },
     "execution_count": 136,
     "metadata": {},
     "output_type": "execute_result"
    }
   ],
   "source": [
    "test_array = [2 ,3 ,4]\n",
    "\n",
    "\n",
    "test_array[-2:]"
   ]
  }
 ],
 "metadata": {
  "kernelspec": {
   "display_name": "src",
   "language": "python",
   "name": "python3"
  },
  "language_info": {
   "codemirror_mode": {
    "name": "ipython",
    "version": 3
   },
   "file_extension": ".py",
   "mimetype": "text/x-python",
   "name": "python",
   "nbconvert_exporter": "python",
   "pygments_lexer": "ipython3",
   "version": "3.12.11"
  }
 },
 "nbformat": 4,
 "nbformat_minor": 5
}
